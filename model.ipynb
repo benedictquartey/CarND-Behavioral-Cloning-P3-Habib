{
 "cells": [
  {
   "cell_type": "code",
   "execution_count": 1,
   "metadata": {},
   "outputs": [
    {
     "name": "stderr",
     "output_type": "stream",
     "text": [
      "Using TensorFlow backend.\n"
     ]
    }
   ],
   "source": [
    "import pandas as pd\n",
    "import numpy as np\n",
    "import cv2\n",
    "from sklearn.utils import shuffle\n",
    "from sklearn.model_selection import train_test_split\n",
    "from keras.models import Sequential\n",
    "from keras.optimizers import Adam\n",
    "from keras.callbacks import EarlyStopping\n",
    "from keras.layers import Lambda, Conv2D, MaxPooling2D, Dropout, Dense, Flatten, Cropping2D\n",
    "import matplotlib.pyplot as plt\n",
    "%matplotlib inline"
   ]
  },
  {
   "cell_type": "code",
   "execution_count": 2,
   "metadata": {
    "collapsed": true
   },
   "outputs": [],
   "source": [
    "INPUT_SHAPE = (160,320,3)\n",
    "DATA_PATH = './data'"
   ]
  },
  {
   "cell_type": "markdown",
   "metadata": {},
   "source": [
    "# Load training data and split it into training and validation set"
   ]
  },
  {
   "cell_type": "code",
   "execution_count": 3,
   "metadata": {
    "collapsed": true
   },
   "outputs": [],
   "source": [
    "def load_data(data_path):\n",
    "    \"\"\"\n",
    "    Load training data and split it into training and validation set\n",
    "    \"\"\"\n",
    "    headers = ['center', 'left', 'right','steering','throttle','brake','speed']\n",
    "    data = pd.read_csv(data_path + '/driving_log.csv', names = headers)\n",
    "    \n",
    "    # Use SciKit not keras splitting so it randomly selects validation set\n",
    "    d_train, d_valid = train_test_split(data, test_size=0.2, random_state=42)\n",
    "\n",
    "    return d_train, d_valid"
   ]
  },
  {
   "cell_type": "code",
   "execution_count": 4,
   "metadata": {
    "collapsed": true
   },
   "outputs": [],
   "source": [
    "def batch_generator(samples, batch_size=32, is_training=True):\n",
    "    \"\"\"\n",
    "    Build a generator to load images as RGB\n",
    "    If it is a training set include the right, left, and flipped images with steering correction\n",
    "    \"\"\"\n",
    "    num_samples = len(samples)\n",
    "    while True: # Loop forever so the generator never terminates\n",
    "        for offset in range(0, num_samples, batch_size):\n",
    "            batch_samples = samples.iloc[offset:offset+batch_size]\n",
    "\n",
    "            images = []\n",
    "            angles = []\n",
    "            for batch_sample in batch_samples.iterrows():\n",
    "                batch_sample = batch_sample[1]\n",
    "                name = DATA_PATH + '/IMG/'+batch_sample['center'].split('/')[-1]\n",
    "                center_image = cv2.imread(name)\n",
    "                center_image = cv2.cvtColor(center_image, cv2.COLOR_BGR2RGB)\n",
    "                center_angle = float(batch_sample['steering'])\n",
    "                images.append(center_image)\n",
    "                angles.append(np.clip(center_angle,-1,1))\n",
    "                if is_training:\n",
    "                    # Center Flip\n",
    "                    images.append(cv2.flip(center_image,1))\n",
    "                    angles.append(np.clip(center_angle*-1.0,-1,1))\n",
    "                    # Left\n",
    "                    name = DATA_PATH + '/IMG/'+batch_sample['left'].split('/')[-1]\n",
    "                    correction = 0.2\n",
    "                    center_image = cv2.imread(name)\n",
    "                    center_image = cv2.cvtColor(center_image, cv2.COLOR_BGR2RGB)\n",
    "                    images.append(center_image)\n",
    "                    angles.append(np.clip(center_angle+correction,-1,1))\n",
    "                    # Left Flip\n",
    "                    images.append(cv2.flip(center_image,1))\n",
    "                    angles.append(np.clip((center_angle+correction)*-1.0,-1,1))\n",
    "                    # Right\n",
    "                    name = DATA_PATH + '/IMG/'+batch_sample['right'].split('/')[-1]\n",
    "                    correction = -0.2\n",
    "                    center_image = cv2.imread(name)\n",
    "                    center_image = cv2.cvtColor(center_image, cv2.COLOR_BGR2RGB)\n",
    "                    images.append(center_image)\n",
    "                    angles.append(np.clip(center_angle+correction,-1,1))\n",
    "                    # Right Flip\n",
    "                    images.append(cv2.flip(center_image,1))\n",
    "                    angles.append(np.clip((center_angle+correction)*-1.0,-1,1))\n",
    "                    \n",
    "            X_train = np.array(images)\n",
    "            y_train = np.array(angles)\n",
    "            yield shuffle(X_train, y_train)"
   ]
  },
  {
   "cell_type": "markdown",
   "metadata": {},
   "source": [
    "# Define model architecture"
   ]
  },
  {
   "cell_type": "code",
   "execution_count": 5,
   "metadata": {
    "collapsed": true
   },
   "outputs": [],
   "source": [
    "def build_model():\n",
    "    \"\"\"\n",
    "    NVIDIA CNN model\n",
    "    \"\"\"\n",
    "    model = Sequential()\n",
    "    model.add(Cropping2D(cropping=((70,24), (60,60)), input_shape=INPUT_SHAPE))\n",
    "    # Normalization\n",
    "    model.add(Lambda(lambda x: x/255.0 - 0.5))\n",
    "    model.add(Conv2D(24, 5, 5, activation='elu', subsample=(2, 2)))\n",
    "    model.add(Conv2D(36, 5, 5, activation='elu', subsample=(2, 2)))\n",
    "    model.add(Conv2D(48, 5, 5, activation='elu', subsample=(2, 2)))\n",
    "    model.add(Conv2D(64, 3, 3, activation='elu'))\n",
    "    model.add(Conv2D(64, 3, 3, activation='elu'))\n",
    "    model.add(Flatten())\n",
    "    model.add(Dense(100, activation='elu'))\n",
    "    model.add(Dense(50, activation='elu'))\n",
    "    model.add(Dense(10, activation='elu'))\n",
    "    model.add(Dense(1))\n",
    "    model.summary()\n",
    "\n",
    "    return model"
   ]
  },
  {
   "cell_type": "code",
   "execution_count": 6,
   "metadata": {
    "collapsed": true
   },
   "outputs": [],
   "source": [
    "def train_model(model, train_generator, validation_generator, n_train, n_valid):\n",
    "    \"\"\"\n",
    "    Train the model\n",
    "    \"\"\"\n",
    "    model.compile(loss='mse', optimizer='adam')\n",
    "    \n",
    "    es = EarlyStopping(monitor='val_loss',\\\n",
    "                              min_delta=0,\\\n",
    "                              patience=2,\\\n",
    "                              verbose=0, mode='auto')\n",
    "    \n",
    "    history_object = model.fit_generator(train_generator, samples_per_epoch = \\\n",
    "            n_train, validation_data = validation_generator, \\\n",
    "            nb_val_samples=n_valid, nb_epoch=30, callbacks=[es])\n",
    "    \n",
    "    # creates a HDF5 file 'model.h5'\n",
    "    model.save('model.h5')\n",
    "\n",
    "    # plot the training and validation loss for each epoch\n",
    "    plt.plot(history_object.history['loss'])\n",
    "    plt.plot(history_object.history['val_loss'])\n",
    "    plt.title('model mean squared error loss')\n",
    "    plt.ylabel('mean squared error loss')\n",
    "    plt.xlabel('epoch')\n",
    "    plt.legend(['training set', 'validation set'], loc='upper right')\n",
    "    plt.show()\n",
    "    \n",
    "    # delete the existing model\n",
    "    del model"
   ]
  },
  {
   "cell_type": "code",
   "execution_count": 7,
   "metadata": {},
   "outputs": [
    {
     "name": "stdout",
     "output_type": "stream",
     "text": [
      "____________________________________________________________________________________________________\n",
      "Layer (type)                     Output Shape          Param #     Connected to                     \n",
      "====================================================================================================\n",
      "cropping2d_1 (Cropping2D)        (None, 66, 200, 3)    0           cropping2d_input_1[0][0]         \n",
      "____________________________________________________________________________________________________\n",
      "lambda_1 (Lambda)                (None, 66, 200, 3)    0           cropping2d_1[0][0]               \n",
      "____________________________________________________________________________________________________\n",
      "convolution2d_1 (Convolution2D)  (None, 31, 98, 24)    1824        lambda_1[0][0]                   \n",
      "____________________________________________________________________________________________________\n",
      "convolution2d_2 (Convolution2D)  (None, 14, 47, 36)    21636       convolution2d_1[0][0]            \n",
      "____________________________________________________________________________________________________\n",
      "convolution2d_3 (Convolution2D)  (None, 5, 22, 48)     43248       convolution2d_2[0][0]            \n",
      "____________________________________________________________________________________________________\n",
      "convolution2d_4 (Convolution2D)  (None, 3, 20, 64)     27712       convolution2d_3[0][0]            \n",
      "____________________________________________________________________________________________________\n",
      "convolution2d_5 (Convolution2D)  (None, 1, 18, 64)     36928       convolution2d_4[0][0]            \n",
      "____________________________________________________________________________________________________\n",
      "flatten_1 (Flatten)              (None, 1152)          0           convolution2d_5[0][0]            \n",
      "____________________________________________________________________________________________________\n",
      "dense_1 (Dense)                  (None, 100)           115300      flatten_1[0][0]                  \n",
      "____________________________________________________________________________________________________\n",
      "dense_2 (Dense)                  (None, 50)            5050        dense_1[0][0]                    \n",
      "____________________________________________________________________________________________________\n",
      "dense_3 (Dense)                  (None, 10)            510         dense_2[0][0]                    \n",
      "____________________________________________________________________________________________________\n",
      "dense_4 (Dense)                  (None, 1)             11          dense_3[0][0]                    \n",
      "====================================================================================================\n",
      "Total params: 252,219\n",
      "Trainable params: 252,219\n",
      "Non-trainable params: 0\n",
      "____________________________________________________________________________________________________\n",
      "Epoch 1/30\n",
      "89328/89328 [==============================] - 113s - loss: 0.0870 - val_loss: 0.0532\n",
      "Epoch 2/30\n",
      "89328/89328 [==============================] - 108s - loss: 0.0484 - val_loss: 0.0333\n",
      "Epoch 3/30\n",
      "89328/89328 [==============================] - 108s - loss: 0.0366 - val_loss: 0.0281\n",
      "Epoch 4/30\n",
      "89328/89328 [==============================] - 108s - loss: 0.0321 - val_loss: 0.0258\n",
      "Epoch 5/30\n",
      "89328/89328 [==============================] - 109s - loss: 0.0290 - val_loss: 0.0258\n",
      "Epoch 6/30\n",
      "89328/89328 [==============================] - 109s - loss: 0.0269 - val_loss: 0.0248\n",
      "Epoch 7/30\n",
      "89328/89328 [==============================] - 108s - loss: 0.0256 - val_loss: 0.0231\n",
      "Epoch 8/30\n",
      "89328/89328 [==============================] - 108s - loss: 0.0247 - val_loss: 0.0240\n",
      "Epoch 9/30\n",
      "89328/89328 [==============================] - 109s - loss: 0.0243 - val_loss: 0.0257\n",
      "Epoch 10/30\n",
      "89328/89328 [==============================] - 109s - loss: 0.0228 - val_loss: 0.0229\n",
      "Epoch 11/30\n",
      "89328/89328 [==============================] - 109s - loss: 0.0219 - val_loss: 0.0227\n",
      "Epoch 12/30\n",
      "89328/89328 [==============================] - 108s - loss: 0.0212 - val_loss: 0.0222\n",
      "Epoch 13/30\n",
      "89328/89328 [==============================] - 108s - loss: 0.0207 - val_loss: 0.0210\n",
      "Epoch 14/30\n",
      "89328/89328 [==============================] - 108s - loss: 0.0201 - val_loss: 0.0211\n",
      "Epoch 15/30\n",
      "89328/89328 [==============================] - 108s - loss: 0.0196 - val_loss: 0.0215\n",
      "Epoch 16/30\n",
      "89328/89328 [==============================] - 108s - loss: 0.0193 - val_loss: 0.0219\n",
      "dict_keys(['val_loss', 'loss'])\n"
     ]
    },
    {
     "data": {
      "image/png": "[encoded data removed]",
      "text/plain": [
       "<matplotlib.figure.Figure at 0x7fccc41ffb70>"
      ]
     },
     "metadata": {},
     "output_type": "display_data"
    }
   ],
   "source": [
    "def main():\n",
    "    \"\"\"\n",
    "    Run pipeline\n",
    "    \"\"\"\n",
    "    d_train, d_valid = load_data(DATA_PATH)\n",
    "    n_train = len(d_train)*2*3 # training set will expand 6x from including the right, left, and flipped images\n",
    "    n_valid = len(d_valid)\n",
    "    train_generator = batch_generator(d_train, batch_size=128)\n",
    "    validation_generator = batch_generator(d_valid, batch_size=128, is_training=False)\n",
    "    model = build_model()\n",
    "    train_model(model, train_generator, validation_generator, n_train, n_valid)\n",
    "if __name__ == \"__main__\": main()"
   ]
  },
  {
   "cell_type": "code",
   "execution_count": 8,
   "metadata": {
    "collapsed": true
   },
   "outputs": [],
   "source": [
    "d_train, d_valid = load_data(DATA_PATH)"
   ]
  },
  {
   "cell_type": "code",
   "execution_count": 9,
   "metadata": {},
   "outputs": [
    {
     "data": {
      "text/plain": [
       "<matplotlib.text.Text at 0x7fccc2ef7630>"
      ]
     },
     "execution_count": 9,
     "metadata": {},
     "output_type": "execute_result"
    },
    {
     "data": {
      "image/png": "[encoded data removed]",
      "text/plain": [
       "<matplotlib.figure.Figure at 0x7fccc2f2f828>"
      ]
     },
     "metadata": {},
     "output_type": "display_data"
    }
   ],
   "source": [
    "train_generator = batch_generator(d_train, batch_size=128)\n",
    "y_train = next(train_generator)[1]\n",
    "plt.figure(figsize=(16,8))\n",
    "num_bins = 128\n",
    "# the histogram of the data\n",
    "n, bins, patches = plt.hist(y_train, num_bins)\n",
    "plt.title('Steering Angle Frequency')\n",
    "plt.xlabel('Steering Angle')\n",
    "plt.ylabel('Number of Images')"
   ]
  },
  {
   "cell_type": "code",
   "execution_count": null,
   "metadata": {
    "collapsed": true
   },
   "outputs": [],
   "source": []
  }
 ],
 "metadata": {
  "kernelspec": {
   "display_name": "Python 3",
   "language": "python",
   "name": "python3"
  },
  "language_info": {
   "codemirror_mode": {
    "name": "ipython",
    "version": 3
   },
   "file_extension": ".py",
   "mimetype": "text/x-python",
   "name": "python",
   "nbconvert_exporter": "python",
   "pygments_lexer": "ipython3",
   "version": "3.5.4"
  },
  "widgets": {
   "state": {},
   "version": "1.1.2"
  }
 },
 "nbformat": 4,
 "nbformat_minor": 2
}
